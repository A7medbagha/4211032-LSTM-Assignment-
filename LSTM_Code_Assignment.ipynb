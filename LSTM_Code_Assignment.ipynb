{
 "cells": [
  {
   "cell_type": "markdown",
   "id": "9e5b2b94-747d-4d86-8b4c-14a5d99191d1",
   "metadata": {},
   "source": [
    "# Name: Ahmed Mohamed Fekry Bagha\n",
    "# ID: 4211032\n",
    "# Group: (A)         \n",
    "# Section: (B1)"
   ]
  },
  {
   "cell_type": "markdown",
   "id": "7a8ed61a-b176-46a3-a4c0-11bff4214999",
   "metadata": {},
   "source": [
    "## # Implement the numerical example in PDF (LSTM Forward Propagation) from scratch by Python"
   ]
  },
  {
   "cell_type": "code",
   "execution_count": 3,
   "id": "d1a67ccb-f870-4007-b44a-d4d692ca065e",
   "metadata": {},
   "outputs": [],
   "source": [
    "import numpy as np"
   ]
  },
  {
   "cell_type": "markdown",
   "id": "064c7d5f-cb97-4a7b-811d-777c9cd3ff29",
   "metadata": {},
   "source": [
    "### sigmoid and tanh Functions"
   ]
  },
  {
   "cell_type": "code",
   "execution_count": 5,
   "id": "429130fd-356e-4391-b0c7-2bedcc9b9991",
   "metadata": {},
   "outputs": [],
   "source": [
    "def sigmoid(x):\n",
    "    return 1 / (1 + np.exp(-x))\n",
    "\n",
    "def tanh(x):\n",
    "    return np.tanh(x)"
   ]
  },
  {
   "cell_type": "markdown",
   "id": "5f4d44f4-63eb-4a70-9c85-9844b3d2217e",
   "metadata": {},
   "source": [
    "### Initialize LSTM parameters"
   ]
  },
  {
   "cell_type": "code",
   "execution_count": 7,
   "id": "b982b309-f658-4118-b70c-0650797e6e5a",
   "metadata": {},
   "outputs": [],
   "source": [
    "W_f, W_hf, b_f = 0.5, 0.1, 0\n",
    "W_i, W_hi, b_i = 0.6, 0.2, 0\n",
    "W_c, W_hc, b_c = 0.7, 0.3, 0\n",
    "W_o, W_ho, b_o = 0.8, 0.4, 0"
   ]
  },
  {
   "cell_type": "markdown",
   "id": "e4e15691-6335-4fe2-bc02-548a7df68e00",
   "metadata": {},
   "source": [
    "### Initial states and Input sequence"
   ]
  },
  {
   "cell_type": "code",
   "execution_count": 9,
   "id": "290d2fa9-3f0a-4624-bd3c-0cd9ec85460c",
   "metadata": {},
   "outputs": [],
   "source": [
    "h_prev, C_prev = 0, 0\n",
    "X = [1, 2, 3]"
   ]
  },
  {
   "cell_type": "markdown",
   "id": "52b4fbed-ac1a-4a77-97fb-bd6c695c4d6f",
   "metadata": {},
   "source": [
    "### LSTM calculation for each time step"
   ]
  },
  {
   "cell_type": "code",
   "execution_count": 11,
   "id": "7f30ea51-6c5c-465c-a102-87edcaed2f45",
   "metadata": {},
   "outputs": [
    {
     "name": "stdout",
     "output_type": "stream",
     "text": [
      "Time Step 1:\n",
      "  Forget gate (f_t): 0.622\n",
      "  Input gate (i_t): 0.646\n",
      "  Candidate cell state (C_tilde_t): 0.604\n",
      "  Cell state (C_t): 0.390\n",
      "  Output gate (o_t): 0.690\n",
      "  Hidden state (h_t): 0.256\n",
      "\n",
      "Time Step 2:\n",
      "  Forget gate (f_t): 0.736\n",
      "  Input gate (i_t): 0.778\n",
      "  Candidate cell state (C_tilde_t): 0.901\n",
      "  Cell state (C_t): 0.988\n",
      "  Output gate (o_t): 0.846\n",
      "  Hidden state (h_t): 0.640\n",
      "\n",
      "Time Step 3:\n",
      "  Forget gate (f_t): 0.827\n",
      "  Input gate (i_t): 0.873\n",
      "  Candidate cell state (C_tilde_t): 0.980\n",
      "  Cell state (C_t): 1.672\n",
      "  Output gate (o_t): 0.934\n",
      "  Hidden state (h_t): 0.871\n",
      "\n"
     ]
    }
   ],
   "source": [
    "for t in range(len(X)):\n",
    "    x_t = X[t]\n",
    "    \n",
    "    # Forget gate\n",
    "    f_t = sigmoid(W_f * x_t + W_hf * h_prev + b_f)\n",
    "    \n",
    "    # Input gate\n",
    "    i_t = sigmoid(W_i * x_t + W_hi * h_prev + b_i)\n",
    "    \n",
    "    # Candidate cell state\n",
    "    C_tilde_t = tanh(W_c * x_t + W_hc * h_prev + b_c)\n",
    "    \n",
    "    # Cell state update\n",
    "    C_t = f_t * C_prev + i_t * C_tilde_t\n",
    "    \n",
    "    # Output gate\n",
    "    o_t = sigmoid(W_o * x_t + W_ho * h_prev + b_o)\n",
    "    \n",
    "    # Hidden state update\n",
    "    h_t = o_t * tanh(C_t)\n",
    "    \n",
    "    # Update previous states\n",
    "    h_prev, C_prev = h_t, C_t\n",
    "    \n",
    "    print(f\"Time Step {t+1}:\")\n",
    "    print(f\"  Forget gate (f_t): {f_t:.3f}\")\n",
    "    print(f\"  Input gate (i_t): {i_t:.3f}\")\n",
    "    print(f\"  Candidate cell state (C_tilde_t): {C_tilde_t:.3f}\")\n",
    "    print(f\"  Cell state (C_t): {C_t:.3f}\")\n",
    "    print(f\"  Output gate (o_t): {o_t:.3f}\")\n",
    "    print(f\"  Hidden state (h_t): {h_t:.3f}\")\n",
    "    print()"
   ]
  },
  {
   "cell_type": "markdown",
   "id": "816931ba-3761-4a79-a638-36004f34ff9d",
   "metadata": {},
   "source": [
    "### Time Step 4 to predict the next value"
   ]
  },
  {
   "cell_type": "code",
   "execution_count": 13,
   "id": "f39919c2-4914-49b6-9256-66d8c5420df2",
   "metadata": {},
   "outputs": [
    {
     "name": "stdout",
     "output_type": "stream",
     "text": [
      "Time Step 4 (Prediction):\n",
      "  Forget gate (f_4): 0.890\n",
      "  Input gate (i_4): 0.929\n",
      "  Candidate cell state (C_tilde_4): 0.996\n",
      "  Cell state (C_4): 2.413\n",
      "  Output gate (o_4): 0.972\n",
      "  Hidden state (h_4): 0.957\n",
      "\n"
     ]
    }
   ],
   "source": [
    "# Assume the next input is (4)\n",
    "x_4 = 4  \n",
    "\n",
    "# Forget gate\n",
    "f_4 = sigmoid(W_f * x_4 + W_hf * h_prev + b_f)\n",
    "\n",
    "# Input gate\n",
    "i_4 = sigmoid(W_i * x_4 + W_hi * h_prev + b_i)\n",
    "\n",
    "# Candidate cell state\n",
    "C_tilde_4 = tanh(W_c * x_4 + W_hc * h_prev + b_c)\n",
    "\n",
    "# Cell state update\n",
    "C_4 = f_4 * C_prev + i_4 * C_tilde_4\n",
    "\n",
    "# Output gate\n",
    "o_4 = sigmoid(W_o * x_4 + W_ho * h_prev + b_o)\n",
    "\n",
    "# Hidden state update\n",
    "h_4 = o_4 * tanh(C_4)\n",
    "\n",
    "print(f\"Time Step 4 (Prediction):\")\n",
    "print(f\"  Forget gate (f_4): {f_4:.3f}\")\n",
    "print(f\"  Input gate (i_4): {i_4:.3f}\")\n",
    "print(f\"  Candidate cell state (C_tilde_4): {C_tilde_4:.3f}\")\n",
    "print(f\"  Cell state (C_4): {C_4:.3f}\")\n",
    "print(f\"  Output gate (o_4): {o_4:.3f}\")\n",
    "print(f\"  Hidden state (h_4): {h_4:.3f}\")\n",
    "print()"
   ]
  },
  {
   "cell_type": "markdown",
   "id": "f90a407a-864e-4269-8b3a-62f0b46f13f5",
   "metadata": {},
   "source": [
    "### Predict the next value"
   ]
  },
  {
   "cell_type": "code",
   "execution_count": 15,
   "id": "e4d95250-6e99-4f0c-a06e-bf1744d45f27",
   "metadata": {},
   "outputs": [
    {
     "name": "stdout",
     "output_type": "stream",
     "text": [
      "Predicted next value: 3.826\n"
     ]
    }
   ],
   "source": [
    "W_y, b_y = 4, 0\n",
    "y_pred = W_y * h_4 + b_y\n",
    "\n",
    "print(f\"Predicted next value: {y_pred:.3f}\")"
   ]
  }
 ],
 "metadata": {
  "kernelspec": {
   "display_name": "Python 3 (ipykernel)",
   "language": "python",
   "name": "python3"
  },
  "language_info": {
   "codemirror_mode": {
    "name": "ipython",
    "version": 3
   },
   "file_extension": ".py",
   "mimetype": "text/x-python",
   "name": "python",
   "nbconvert_exporter": "python",
   "pygments_lexer": "ipython3",
   "version": "3.12.4"
  }
 },
 "nbformat": 4,
 "nbformat_minor": 5
}
